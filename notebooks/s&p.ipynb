{
 "cells": [
  {
   "cell_type": "code",
   "execution_count": 1,
   "id": "d72b5e4d-152d-42e5-bbc0-9c97ab23f293",
   "metadata": {},
   "outputs": [],
   "source": [
    "import requests\n",
    "from bs4 import BeautifulSoup"
   ]
  },
  {
   "cell_type": "code",
   "execution_count": 2,
   "id": "87671443-e640-4719-b4eb-f2dfe8ac949f",
   "metadata": {},
   "outputs": [],
   "source": [
    "def get_snp_tickers():\n",
    "    \n",
    "    url = 'https://en.wikipedia.org/wiki/List_of_S%26P_500_companies'\n",
    "\n",
    "    response = requests.get(url)\n",
    "\n",
    "    soup = BeautifulSoup(response.text, 'html.parser')\n",
    "\n",
    "    table = soup.find('table', {'class': 'wikitable sortable'})\n",
    "\n",
    "    sp500_tickers = []\n",
    "    for row in table.find_all('tr')[1:]:\n",
    "        ticker = row.find_all('td')[0].text.strip()\n",
    "        sp500_tickers.append(ticker)\n",
    "\n",
    "    return sp500_tickers"
   ]
  },
  {
   "cell_type": "code",
   "execution_count": 6,
   "id": "3d55837b-f76b-4c6c-adb2-8125e094cbda",
   "metadata": {},
   "outputs": [],
   "source": [
    "tickers = get_snp_tickers()"
   ]
  },
  {
   "cell_type": "code",
   "execution_count": null,
   "id": "edc136b0-7c61-4428-beec-70f33b8b0265",
   "metadata": {},
   "outputs": [],
   "source": []
  }
 ],
 "metadata": {
  "kernelspec": {
   "display_name": "airflow",
   "language": "python",
   "name": "airflow"
  },
  "language_info": {
   "codemirror_mode": {
    "name": "ipython",
    "version": 3
   },
   "file_extension": ".py",
   "mimetype": "text/x-python",
   "name": "python",
   "nbconvert_exporter": "python",
   "pygments_lexer": "ipython3",
   "version": "3.9.4"
  }
 },
 "nbformat": 4,
 "nbformat_minor": 5
}
