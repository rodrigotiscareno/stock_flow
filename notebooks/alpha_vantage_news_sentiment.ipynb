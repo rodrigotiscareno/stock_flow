{
 "cells": [
  {
   "cell_type": "code",
   "execution_count": 1,
   "id": "1c0ac068-dfa7-4f15-aee5-54a44d4ad673",
   "metadata": {},
   "outputs": [],
   "source": [
    "TOKEN = '182QTV1K4ZK4ILFP'"
   ]
  },
  {
   "cell_type": "code",
   "execution_count": null,
   "id": "b90ceea2-cbb3-4839-9629-cb8e3950d55e",
   "metadata": {},
   "outputs": [],
   "source": [
    "import requests\n",
    "from bs4 import BeautifulSoup\n",
    "import json\n",
    "import pandas as pd"
   ]
  },
  {
   "cell_type": "code",
   "execution_count": 113,
   "id": "1809a101-84db-420e-abad-b997cf8a2567",
   "metadata": {},
   "outputs": [],
   "source": [
    "def get_snp_tickers():\n",
    "    \n",
    "    url = 'https://en.wikipedia.org/wiki/List_of_S%26P_500_companies'\n",
    "\n",
    "    response = requests.get(url)\n",
    "\n",
    "    soup = BeautifulSoup(response.text, 'html.parser')\n",
    "\n",
    "    table = soup.find('table', {'class': 'wikitable sortable'})\n",
    "\n",
    "    sp500_tickers = []\n",
    "    for row in table.find_all('tr')[1:]:\n",
    "        ticker = row.find_all('td')[0].text.strip()\n",
    "        sp500_tickers.append(ticker)\n",
    "\n",
    "    return sp500_tickers"
   ]
  },
  {
   "cell_type": "code",
   "execution_count": 117,
   "id": "16b43d22-1b07-48d6-9c9a-d795dbc83c69",
   "metadata": {},
   "outputs": [],
   "source": [
    "def get_df(data):\n",
    "    data = data.json()\n",
    "    \n",
    "    try:\n",
    "        df = pd.DataFrame(data['feed'])\n",
    "        df = df[[\n",
    "        'title',\n",
    "        'url',\n",
    "        'time_published',\n",
    "        'summary',\n",
    "        'source',\n",
    "        'category_within_source',\n",
    "        'source_domain',\n",
    "        'overall_sentiment_score',\n",
    "        'overall_sentiment_label',\n",
    "        'ticker_sentiment']]\n",
    "        df = pd.concat([df.explode('ticker_sentiment').drop(['ticker_sentiment'], axis=1),\n",
    "               df.explode('ticker_sentiment')['ticker_sentiment'].apply(pd.Series)],\n",
    "              axis=1)\n",
    "        df['time_published'] = pd.to_datetime(df['time_published'], format='%Y%m%dT%H%M%S')\n",
    "        return df \n",
    "    except:\n",
    "        return pd.DataFrame()"
   ]
  },
  {
   "cell_type": "code",
   "execution_count": null,
   "id": "bf5dc7a4-cb14-4e29-bf4e-2463ec4bfea4",
   "metadata": {},
   "outputs": [],
   "source": [
    "tickers = get_snp_tickers()\n",
    "df = pd.DataFrame()\n",
    "\n",
    "chunks = [tickers[i:i + 5] for i in range(0, len(tickers), 5)]\n",
    "\n",
    "for chunk in chunks:\n",
    "    for ticker in chunk:\n",
    "        print(ticker)\n",
    "        url = f'https://www.alphavantage.co/query?function=NEWS_SENTIMENT&tickers={ticker}&apikey={TOKEN}'\n",
    "        r = requests.get(url)\n",
    "        df = pd.concat([df, get_df(r)], ignore_index=True)\n",
    "    time.sleep(70)"
   ]
  },
  {
   "cell_type": "code",
   "execution_count": null,
   "id": "33a03f8e-4774-4413-84dd-ad5ae22bf641",
   "metadata": {},
   "outputs": [],
   "source": [
    "df.ticker.value_counts()[:20]"
   ]
  },
  {
   "cell_type": "code",
   "execution_count": 121,
   "id": "1003cf92-686c-4aa2-a2c3-cc99955ad6d5",
   "metadata": {},
   "outputs": [],
   "source": [
    "df.to_csv('alpha_vantage_news.csv', index=False)"
   ]
  },
  {
   "cell_type": "code",
   "execution_count": 122,
   "id": "c2d01062-e8a0-4c53-abc8-a44d328177cb",
   "metadata": {},
   "outputs": [
    {
     "data": {
      "text/plain": [
       "title                      112467\n",
       "url                        112467\n",
       "time_published             112467\n",
       "summary                    112467\n",
       "source                     112467\n",
       "category_within_source     112467\n",
       "source_domain              112467\n",
       "overall_sentiment_score    112467\n",
       "overall_sentiment_label    112467\n",
       "ticker                     112467\n",
       "relevance_score            112467\n",
       "ticker_sentiment_score     112467\n",
       "ticker_sentiment_label     112467\n",
       "dtype: int64"
      ]
     },
     "execution_count": 122,
     "metadata": {},
     "output_type": "execute_result"
    }
   ],
   "source": [
    "df.count()"
   ]
  },
  {
   "cell_type": "code",
   "execution_count": null,
   "id": "91b5543b-d781-489e-90e0-3faa8383fc09",
   "metadata": {},
   "outputs": [],
   "source": []
  }
 ],
 "metadata": {
  "kernelspec": {
   "display_name": "airflow",
   "language": "python",
   "name": "airflow"
  },
  "language_info": {
   "codemirror_mode": {
    "name": "ipython",
    "version": 3
   },
   "file_extension": ".py",
   "mimetype": "text/x-python",
   "name": "python",
   "nbconvert_exporter": "python",
   "pygments_lexer": "ipython3",
   "version": "3.9.4"
  }
 },
 "nbformat": 4,
 "nbformat_minor": 5
}
