{
 "cells": [
  {
   "cell_type": "code",
   "execution_count": 60,
   "id": "42b06055-41f6-488b-9fbd-f60ac91d2090",
   "metadata": {},
   "outputs": [],
   "source": [
    "import requests\n",
    "import json\n",
    "import pandas as pd"
   ]
  },
  {
   "cell_type": "code",
   "execution_count": 100,
   "id": "8b24012e-d3ec-418b-94fe-73a6ec1e6d97",
   "metadata": {},
   "outputs": [],
   "source": [
    "df = pd.DataFrame()\n",
    "for page in range(1, 30):\n",
    "    url = f\"https://apewisdom.io/api/v1.0/filter/all-stocks/page/{page}\"\n",
    "    response = requests.get(url)\n",
    "    page_df = pd.read_json(response.text)\n",
    "    if page_df.empty:\n",
    "        break\n",
    "    else:\n",
    "        df = pd.concat([df, page_df], axis=0).reset_index(drop=True)"
   ]
  },
  {
   "cell_type": "code",
   "execution_count": 102,
   "id": "66700e73-a69d-48e0-a75b-39bf5af27a34",
   "metadata": {},
   "outputs": [],
   "source": [
    "df = pd.concat([df.drop('results', axis=1),\n",
    "               df['results'].apply(pd.Series)],\n",
    "              axis=1)"
   ]
  },
  {
   "cell_type": "code",
   "execution_count": null,
   "id": "38f15d32-83d3-46ff-ae33-ec38fbed62c4",
   "metadata": {},
   "outputs": [],
   "source": [
    "df"
   ]
  },
  {
   "cell_type": "code",
   "execution_count": null,
   "id": "71755e85-3df8-407f-8df1-79cca1e122ea",
   "metadata": {},
   "outputs": [],
   "source": []
  }
 ],
 "metadata": {
  "kernelspec": {
   "display_name": "airflow",
   "language": "python",
   "name": "airflow"
  },
  "language_info": {
   "codemirror_mode": {
    "name": "ipython",
    "version": 3
   },
   "file_extension": ".py",
   "mimetype": "text/x-python",
   "name": "python",
   "nbconvert_exporter": "python",
   "pygments_lexer": "ipython3",
   "version": "3.9.4"
  }
 },
 "nbformat": 4,
 "nbformat_minor": 5
}
